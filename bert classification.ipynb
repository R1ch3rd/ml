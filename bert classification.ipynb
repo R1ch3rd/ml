{
 "cells": [
  {
   "cell_type": "code",
   "execution_count": 1,
   "id": "f5e42919",
   "metadata": {
    "_cell_guid": "b1076dfc-b9ad-4769-8c92-a6c4dae69d19",
    "_uuid": "8f2839f25d086af736a60e9eeb907d3b93b6e0e5",
    "execution": {
     "iopub.execute_input": "2024-09-19T05:42:53.174895Z",
     "iopub.status.busy": "2024-09-19T05:42:53.174290Z",
     "iopub.status.idle": "2024-09-19T05:42:53.587584Z",
     "shell.execute_reply": "2024-09-19T05:42:53.586531Z"
    },
    "papermill": {
     "duration": 0.420614,
     "end_time": "2024-09-19T05:42:53.590140",
     "exception": false,
     "start_time": "2024-09-19T05:42:53.169526",
     "status": "completed"
    },
    "tags": []
   },
   "outputs": [],
   "source": [
    "# This Python 3 environment comes with many helpful analytics libraries installed\n",
    "# It is defined by the kaggle/python Docker image: https://github.com/kaggle/docker-python\n",
    "# For example, here's several helpful packages to load\n",
    "\n",
    "import numpy as np # linear algebra\n",
    "import pandas as pd # data processing, CSV file I/O (e.g. pd.read_csv)\n",
    "\n",
    "# Input data files are available in the read-only \"../input/\" directory\n",
    "# For example, running this (by clicking run or pressing Shift+Enter) will list all files under the input directory\n",
    "\n",
    "import os\n",
    "for dirname, _, filenames in os.walk('/kaggle/input'):\n",
    "    for filename in filenames:\n",
    "        print(os.path.join(dirname, filename))\n",
    "\n",
    "# You can write up to 20GB to the current directory (/kaggle/working/) that gets preserved as output when you create a version using \"Save & Run All\" \n",
    "# You can also write temporary files to /kaggle/temp/, but they won't be saved outside of the current session"
   ]
  },
  {
   "cell_type": "code",
   "execution_count": 2,
   "id": "5ffb970d",
   "metadata": {
    "execution": {
     "iopub.execute_input": "2024-09-19T05:42:53.596678Z",
     "iopub.status.busy": "2024-09-19T05:42:53.596120Z",
     "iopub.status.idle": "2024-09-19T05:42:56.515999Z",
     "shell.execute_reply": "2024-09-19T05:42:56.514285Z"
    },
    "papermill": {
     "duration": 2.925835,
     "end_time": "2024-09-19T05:42:56.518527",
     "exception": false,
     "start_time": "2024-09-19T05:42:53.592692",
     "status": "completed"
    },
    "tags": []
   },
   "outputs": [],
   "source": [
    "import torch"
   ]
  },
  {
   "cell_type": "code",
   "execution_count": 3,
   "id": "02ea098a",
   "metadata": {
    "execution": {
     "iopub.execute_input": "2024-09-19T05:42:56.524914Z",
     "iopub.status.busy": "2024-09-19T05:42:56.524370Z",
     "iopub.status.idle": "2024-09-19T05:42:56.656589Z",
     "shell.execute_reply": "2024-09-19T05:42:56.655210Z"
    },
    "papermill": {
     "duration": 0.138353,
     "end_time": "2024-09-19T05:42:56.659203",
     "exception": false,
     "start_time": "2024-09-19T05:42:56.520850",
     "status": "completed"
    },
    "tags": []
   },
   "outputs": [],
   "source": [
    "a = torch.randn(10,10)"
   ]
  },
  {
   "cell_type": "code",
   "execution_count": 4,
   "id": "ee9f9451",
   "metadata": {
    "execution": {
     "iopub.execute_input": "2024-09-19T05:42:56.665273Z",
     "iopub.status.busy": "2024-09-19T05:42:56.664833Z",
     "iopub.status.idle": "2024-09-19T05:42:56.751599Z",
     "shell.execute_reply": "2024-09-19T05:42:56.750354Z"
    },
    "papermill": {
     "duration": 0.092644,
     "end_time": "2024-09-19T05:42:56.754127",
     "exception": false,
     "start_time": "2024-09-19T05:42:56.661483",
     "status": "completed"
    },
    "tags": []
   },
   "outputs": [
    {
     "data": {
      "text/plain": [
       "tensor([[ 0.4647,  0.9282, -0.7820, -0.3119, -0.6425,  1.1297, -2.4013,  0.8959,\n",
       "          0.6185,  1.4197],\n",
       "        [ 0.6027,  1.7042, -0.5332, -0.7516, -1.4633,  0.9703,  0.5764,  0.6204,\n",
       "         -0.8085,  1.0264],\n",
       "        [-1.5066, -1.2886,  1.4448, -0.3957, -0.4721,  2.4133,  0.2457, -0.5548,\n",
       "         -0.3688,  1.2305],\n",
       "        [-0.7366,  0.1652,  0.3498,  0.9204, -0.5627, -0.5447, -0.2134,  0.4193,\n",
       "         -1.2664, -0.8740],\n",
       "        [-0.1343, -0.6882,  0.6868,  0.6379, -0.6311, -1.3147,  0.8840, -0.8992,\n",
       "          0.0801, -0.8297],\n",
       "        [ 0.5410, -0.8531,  1.7095, -0.0092, -1.1339,  1.2573,  1.1671,  3.0183,\n",
       "          0.1444, -1.3846],\n",
       "        [ 0.2545, -1.7809, -0.6499,  0.3697,  0.4584, -0.6301,  0.2668, -1.0296,\n",
       "         -0.4267, -0.0545],\n",
       "        [-1.3061,  1.1810,  1.2814, -0.7569, -0.6861,  1.9413, -0.2960, -0.0774,\n",
       "          0.3300, -0.5168],\n",
       "        [ 0.5319,  1.2398, -1.2690, -1.0018,  1.7441, -0.6553, -2.6350,  0.3035,\n",
       "         -0.6262, -0.0747],\n",
       "        [ 0.1285, -0.0153, -1.4278, -1.0895,  0.0093,  1.1220, -1.3494,  1.9201,\n",
       "          0.2933,  2.0060]])"
      ]
     },
     "execution_count": 4,
     "metadata": {},
     "output_type": "execute_result"
    }
   ],
   "source": [
    "a"
   ]
  },
  {
   "cell_type": "code",
   "execution_count": null,
   "id": "99990129",
   "metadata": {
    "papermill": {
     "duration": 0.00206,
     "end_time": "2024-09-19T05:42:56.758697",
     "exception": false,
     "start_time": "2024-09-19T05:42:56.756637",
     "status": "completed"
    },
    "tags": []
   },
   "outputs": [],
   "source": []
  }
 ],
 "metadata": {
  "kaggle": {
   "accelerator": "none",
   "dataSources": [],
   "dockerImageVersionId": 30761,
   "isGpuEnabled": false,
   "isInternetEnabled": false,
   "language": "python",
   "sourceType": "notebook"
  },
  "kernelspec": {
   "display_name": "Python 3",
   "language": "python",
   "name": "python3"
  },
  "language_info": {
   "codemirror_mode": {
    "name": "ipython",
    "version": 3
   },
   "file_extension": ".py",
   "mimetype": "text/x-python",
   "name": "python",
   "nbconvert_exporter": "python",
   "pygments_lexer": "ipython3",
   "version": "3.10.14"
  },
  "papermill": {
   "default_parameters": {},
   "duration": 7.238472,
   "end_time": "2024-09-19T05:42:57.683261",
   "environment_variables": {},
   "exception": null,
   "input_path": "__notebook__.ipynb",
   "output_path": "__notebook__.ipynb",
   "parameters": {},
   "start_time": "2024-09-19T05:42:50.444789",
   "version": "2.6.0"
  }
 },
 "nbformat": 4,
 "nbformat_minor": 5
}
